{
 "cells": [
  {
   "cell_type": "code",
   "execution_count": 2,
   "id": "851557a9-bc9d-4e19-88dd-58fd2fa53d0c",
   "metadata": {},
   "outputs": [
    {
     "name": "stdin",
     "output_type": "stream",
     "text": [
      " hello\n"
     ]
    },
    {
     "data": {
      "text/plain": [
       "'hello'"
      ]
     },
     "execution_count": 2,
     "metadata": {},
     "output_type": "execute_result"
    }
   ],
   "source": [
    "#  $ input method $\n",
    "input()"
   ]
  },
  {
   "cell_type": "code",
   "execution_count": 3,
   "id": "8cec13c0-8bc8-41ef-8e12-a0cc25950b1d",
   "metadata": {},
   "outputs": [
    {
     "name": "stdin",
     "output_type": "stream",
     "text": [
      "enter a number 50\n"
     ]
    },
    {
     "data": {
      "text/plain": [
       "'50'"
      ]
     },
     "execution_count": 3,
     "metadata": {},
     "output_type": "execute_result"
    }
   ],
   "source": [
    "input(\"enter a number\")"
   ]
  },
  {
   "cell_type": "code",
   "execution_count": 5,
   "id": "9a66849d-181b-4afc-aee3-4330a27472c7",
   "metadata": {},
   "outputs": [
    {
     "name": "stdin",
     "output_type": "stream",
     "text": [
      "enter num1 100\n",
      "enter num2 200\n"
     ]
    },
    {
     "name": "stdout",
     "output_type": "stream",
     "text": [
      "100200\n"
     ]
    },
    {
     "name": "stdin",
     "output_type": "stream",
     "text": [
      "enter num1 100\n",
      "enter num2 200\n"
     ]
    },
    {
     "name": "stdout",
     "output_type": "stream",
     "text": [
      "the addition of 100 and 200 is 300\n"
     ]
    }
   ],
   "source": [
    "## by default system will take string value\n",
    "num1=input(\"enter num1\")\n",
    "num2=input(\"enter num2\")\n",
    "print(num1+num2)\n",
    "\n",
    "num1=int(input(\"enter num1\"))\n",
    "num2=int(input(\"enter num2\"))\n",
    "print(f\"the addition of {num1} and {num2} is {num1+num2}\")"
   ]
  },
  {
   "cell_type": "code",
   "execution_count": 6,
   "id": "263b21df-cd18-4087-9268-a004cc65de8b",
   "metadata": {},
   "outputs": [
    {
     "name": "stdin",
     "output_type": "stream",
     "text": [
      "enter num1 100\n",
      "enter num2 200\n"
     ]
    },
    {
     "name": "stdout",
     "output_type": "stream",
     "text": [
      "the addition of 100 and 200 is 300\n"
     ]
    }
   ],
   "source": [
    "num1=input(\"enter num1\")\n",
    "num2=input(\"enter num2\")\n",
    "add=int(num1)+int(num2)\n",
    "print(f\"the addition of {num1} and {num2} is {add}\")"
   ]
  },
  {
   "cell_type": "code",
   "execution_count": 7,
   "id": "267f9ea3-8571-4c4c-9856-f9c3eb122a4c",
   "metadata": {},
   "outputs": [
    {
     "name": "stdin",
     "output_type": "stream",
     "text": [
      "enter num1 10\n",
      "enter num2 10.5\n"
     ]
    },
    {
     "ename": "ValueError",
     "evalue": "invalid literal for int() with base 10: '10.5'",
     "output_type": "error",
     "traceback": [
      "\u001b[1;31m---------------------------------------------------------------------------\u001b[0m",
      "\u001b[1;31mValueError\u001b[0m                                Traceback (most recent call last)",
      "Cell \u001b[1;32mIn[7], line 2\u001b[0m\n\u001b[0;32m      1\u001b[0m num1\u001b[38;5;241m=\u001b[39m\u001b[38;5;28mint\u001b[39m(\u001b[38;5;28minput\u001b[39m(\u001b[38;5;124m\"\u001b[39m\u001b[38;5;124menter num1\u001b[39m\u001b[38;5;124m\"\u001b[39m))\n\u001b[1;32m----> 2\u001b[0m num2\u001b[38;5;241m=\u001b[39m\u001b[38;5;28mint\u001b[39m(\u001b[38;5;28minput\u001b[39m(\u001b[38;5;124m\"\u001b[39m\u001b[38;5;124menter num2\u001b[39m\u001b[38;5;124m\"\u001b[39m))\n\u001b[0;32m      3\u001b[0m \u001b[38;5;28mprint\u001b[39m(\u001b[38;5;124mf\u001b[39m\u001b[38;5;124m\"\u001b[39m\u001b[38;5;124mthe addition of \u001b[39m\u001b[38;5;132;01m{\u001b[39;00mnum1\u001b[38;5;132;01m}\u001b[39;00m\u001b[38;5;124m and \u001b[39m\u001b[38;5;132;01m{\u001b[39;00mnum2\u001b[38;5;132;01m}\u001b[39;00m\u001b[38;5;124m is \u001b[39m\u001b[38;5;132;01m{\u001b[39;00mnum1\u001b[38;5;241m+\u001b[39mnum2\u001b[38;5;132;01m}\u001b[39;00m\u001b[38;5;124m\"\u001b[39m)\n",
      "\u001b[1;31mValueError\u001b[0m: invalid literal for int() with base 10: '10.5'"
     ]
    }
   ],
   "source": [
    "num1=int(input(\"enter num1\"))\n",
    "num2=int(input(\"enter num2\"))\n",
    "print(f\"the addition of {num1} and {num2} is {num1+num2}\")"
   ]
  },
  {
   "cell_type": "code",
   "execution_count": 9,
   "id": "51fceeae-fd0b-49bd-b669-aff0a2a8a464",
   "metadata": {},
   "outputs": [
    {
     "name": "stdin",
     "output_type": "stream",
     "text": [
      "enter num1 10\n",
      "enter num2 10.5\n"
     ]
    },
    {
     "name": "stdout",
     "output_type": "stream",
     "text": [
      "the addition of 10 and 10.5 is 20.5\n"
     ]
    }
   ],
   "source": [
    "# $ eval  $ ---> Evaluate the number automatically based on original datatypes\n",
    "# doesn't work with string data type\n",
    "num1=eval(input(\"enter num1\"))\n",
    "num2=eval(input(\"enter num2\"))\n",
    "print(f\"the addition of {num1} and {num2} is {num1+num2}\")"
   ]
  },
  {
   "cell_type": "code",
   "execution_count": 13,
   "id": "f3671179-7377-48c1-b1d1-cfbdc8df05f3",
   "metadata": {},
   "outputs": [
    {
     "name": "stdin",
     "output_type": "stream",
     "text": [
      "enter num1: 2\n",
      "enter num2: 3\n",
      "enter num3: 5\n"
     ]
    },
    {
     "name": "stdout",
     "output_type": "stream",
     "text": [
      "Avarage of 2 ,3 , 5 is 3.3333333333333335\n"
     ]
    }
   ],
   "source": [
    "### find avg of 3 numbers\n",
    "a=eval(input(\"enter num1:\"))\n",
    "b=eval(input(\"enter num2:\"))\n",
    "c=eval(input(\"enter num3:\"))\n",
    "d=(a+b+c)/3\n",
    "print(f\"Avarage of {a} ,{b} , {c} is {d}\")"
   ]
  },
  {
   "cell_type": "code",
   "execution_count": 14,
   "id": "fe20b0f1-16d6-4dc8-ab68-a2dc30bf001c",
   "metadata": {},
   "outputs": [
    {
     "name": "stdin",
     "output_type": "stream",
     "text": [
      "enter num1: 2\n",
      "enter num2: 3\n",
      "enter num3: 5\n"
     ]
    },
    {
     "name": "stdout",
     "output_type": "stream",
     "text": [
      "Avarage of 2 ,3 , 5 is 3.33\n"
     ]
    }
   ],
   "source": [
    "# $ round $ \n",
    "### find avg of 3 numbers\n",
    "a=eval(input(\"enter num1:\"))\n",
    "b=eval(input(\"enter num2:\"))\n",
    "c=eval(input(\"enter num3:\"))\n",
    "d=round((a+b+c)/3,2)\n",
    "print(f\"Avarage of {a} ,{b} , {c} is {d}\")"
   ]
  },
  {
   "cell_type": "code",
   "execution_count": 17,
   "id": "30bd903b-b89e-4c2f-b8da-cb0caf569c28",
   "metadata": {},
   "outputs": [
    {
     "name": "stdin",
     "output_type": "stream",
     "text": [
      "enter salary 10000\n",
      "enter tax percentage 10\n"
     ]
    },
    {
     "name": "stdout",
     "output_type": "stream",
     "text": [
      "total tax pay is equal to 1000.0\n"
     ]
    }
   ],
   "source": [
    "# salary,tax percentage calculate total tax to pay\n",
    "salary=eval(input(\"enter salary\"))\n",
    "tax=eval(input(\"enter tax percentage\"))\n",
    "tax_to_pay=(salary * tax)/100\n",
    "print(f\"total tax pay is equal to {tax_to_pay}\")"
   ]
  },
  {
   "cell_type": "code",
   "execution_count": null,
   "id": "dc715185-11ee-440c-b3d0-613da9ac8d5b",
   "metadata": {},
   "outputs": [],
   "source": []
  }
 ],
 "metadata": {
  "kernelspec": {
   "display_name": "Python 3 (ipykernel)",
   "language": "python",
   "name": "python3"
  },
  "language_info": {
   "codemirror_mode": {
    "name": "ipython",
    "version": 3
   },
   "file_extension": ".py",
   "mimetype": "text/x-python",
   "name": "python",
   "nbconvert_exporter": "python",
   "pygments_lexer": "ipython3",
   "version": "3.11.5"
  }
 },
 "nbformat": 4,
 "nbformat_minor": 5
}
