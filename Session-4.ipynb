{
 "cells": [
  {
   "cell_type": "code",
   "execution_count": 27,
   "id": "193ad704-ff53-4542-ac46-e583be4d41ae",
   "metadata": {},
   "outputs": [
    {
     "name": "stdout",
     "output_type": "stream",
     "text": [
      "20.0\n",
      "True\n",
      "20\n",
      "(20+0j)\n"
     ]
    }
   ],
   "source": [
    "#int to others\n",
    "print(float(20))\n",
    "print(bool(20))\n",
    "print(str(20))\n",
    "print(complex(20))"
   ]
  },
  {
   "cell_type": "code",
   "execution_count": 26,
   "id": "a9ac6cb2-4a44-4718-b7c4-51cde0b03433",
   "metadata": {},
   "outputs": [
    {
     "name": "stdout",
     "output_type": "stream",
     "text": [
      "20\n",
      "True\n",
      "20.3\n",
      "(20.3+0j)\n"
     ]
    }
   ],
   "source": [
    "#float to others\n",
    "print(int(20.3))\n",
    "print(bool(20.3))\n",
    "print(str(20.3))\n",
    "print(complex(20.3))"
   ]
  },
  {
   "cell_type": "code",
   "execution_count": 20,
   "id": "b96bffe4-9ae5-4609-adb4-c810520fe1b8",
   "metadata": {},
   "outputs": [
    {
     "ename": "ValueError",
     "evalue": "invalid literal for int() with base 10: 'string'",
     "output_type": "error",
     "traceback": [
      "\u001b[1;31m---------------------------------------------------------------------------\u001b[0m",
      "\u001b[1;31mValueError\u001b[0m                                Traceback (most recent call last)",
      "Cell \u001b[1;32mIn[20], line 1\u001b[0m\n\u001b[1;32m----> 1\u001b[0m \u001b[38;5;28mprint\u001b[39m(\u001b[38;5;28mint\u001b[39m(\u001b[38;5;124m\"\u001b[39m\u001b[38;5;124mstring\u001b[39m\u001b[38;5;124m\"\u001b[39m))\n",
      "\u001b[1;31mValueError\u001b[0m: invalid literal for int() with base 10: 'string'"
     ]
    }
   ],
   "source": [
    "#string to others\n",
    "print(int(\"string\"))\n"
   ]
  },
  {
   "cell_type": "code",
   "execution_count": 21,
   "id": "3246ecb9-9de5-4871-9105-878f73eebb27",
   "metadata": {},
   "outputs": [
    {
     "ename": "ValueError",
     "evalue": "could not convert string to float: 'string'",
     "output_type": "error",
     "traceback": [
      "\u001b[1;31m---------------------------------------------------------------------------\u001b[0m",
      "\u001b[1;31mValueError\u001b[0m                                Traceback (most recent call last)",
      "Cell \u001b[1;32mIn[21], line 1\u001b[0m\n\u001b[1;32m----> 1\u001b[0m \u001b[38;5;28mprint\u001b[39m(\u001b[38;5;28mfloat\u001b[39m(\u001b[38;5;124m\"\u001b[39m\u001b[38;5;124mstring\u001b[39m\u001b[38;5;124m\"\u001b[39m))\n",
      "\u001b[1;31mValueError\u001b[0m: could not convert string to float: 'string'"
     ]
    }
   ],
   "source": [
    "#string to others\n",
    "print(float(\"string\"))\n"
   ]
  },
  {
   "cell_type": "code",
   "execution_count": 22,
   "id": "5f20e482-2834-4488-885d-95d8700180e3",
   "metadata": {},
   "outputs": [
    {
     "name": "stdout",
     "output_type": "stream",
     "text": [
      "True\n"
     ]
    }
   ],
   "source": [
    "#string to others\n",
    "print(bool(\"string\"))\n"
   ]
  },
  {
   "cell_type": "code",
   "execution_count": 23,
   "id": "9807abb7-afd4-423b-8269-29b359433b27",
   "metadata": {},
   "outputs": [
    {
     "ename": "ValueError",
     "evalue": "complex() arg is a malformed string",
     "output_type": "error",
     "traceback": [
      "\u001b[1;31m---------------------------------------------------------------------------\u001b[0m",
      "\u001b[1;31mValueError\u001b[0m                                Traceback (most recent call last)",
      "Cell \u001b[1;32mIn[23], line 1\u001b[0m\n\u001b[1;32m----> 1\u001b[0m \u001b[38;5;28mprint\u001b[39m(\u001b[38;5;28mcomplex\u001b[39m(\u001b[38;5;124m\"\u001b[39m\u001b[38;5;124mstring\u001b[39m\u001b[38;5;124m\"\u001b[39m))\n",
      "\u001b[1;31mValueError\u001b[0m: complex() arg is a malformed string"
     ]
    }
   ],
   "source": [
    "#string to others\n",
    "print(complex(\"string\"))"
   ]
  },
  {
   "cell_type": "code",
   "execution_count": 2,
   "id": "b679e9e5-4927-4af6-98ed-66e29e2d9c05",
   "metadata": {},
   "outputs": [
    {
     "name": "stdout",
     "output_type": "stream",
     "text": [
      "1\n",
      "1.0\n",
      "True\n",
      "(1+0j)\n"
     ]
    }
   ],
   "source": [
    "#bool to others\n",
    "print(int(True))\n",
    "print(float(True))\n",
    "print(str(True))\n",
    "print(complex(True))"
   ]
  },
  {
   "cell_type": "code",
   "execution_count": 3,
   "id": "d5542fa6-da2b-4dcc-9585-c5de2d382b08",
   "metadata": {},
   "outputs": [
    {
     "name": "stdout",
     "output_type": "stream",
     "text": [
      "0\n",
      "0.0\n",
      "False\n",
      "0j\n"
     ]
    }
   ],
   "source": [
    "#bool to others\n",
    "print(int(False))\n",
    "print(float(False))\n",
    "print(str(False))\n",
    "print(complex(False))"
   ]
  },
  {
   "cell_type": "code",
   "execution_count": 24,
   "id": "d4d00193-0d27-4605-bd36-78ec22db356f",
   "metadata": {},
   "outputs": [
    {
     "ename": "TypeError",
     "evalue": "int() argument must be a string, a bytes-like object or a real number, not 'complex'",
     "output_type": "error",
     "traceback": [
      "\u001b[1;31m---------------------------------------------------------------------------\u001b[0m",
      "\u001b[1;31mTypeError\u001b[0m                                 Traceback (most recent call last)",
      "Cell \u001b[1;32mIn[24], line 1\u001b[0m\n\u001b[1;32m----> 1\u001b[0m \u001b[38;5;28mprint\u001b[39m(\u001b[38;5;28mint\u001b[39m(\u001b[38;5;241m3\u001b[39m\u001b[38;5;241m+\u001b[39m\u001b[38;5;241m4\u001b[39mj))\n",
      "\u001b[1;31mTypeError\u001b[0m: int() argument must be a string, a bytes-like object or a real number, not 'complex'"
     ]
    }
   ],
   "source": [
    "#complex to others\n",
    "print(int(3+4j))\n"
   ]
  },
  {
   "cell_type": "code",
   "execution_count": 25,
   "id": "05c70d3d-6254-4520-9aa5-616c7bac405d",
   "metadata": {},
   "outputs": [
    {
     "ename": "TypeError",
     "evalue": "float() argument must be a string or a real number, not 'complex'",
     "output_type": "error",
     "traceback": [
      "\u001b[1;31m---------------------------------------------------------------------------\u001b[0m",
      "\u001b[1;31mTypeError\u001b[0m                                 Traceback (most recent call last)",
      "Cell \u001b[1;32mIn[25], line 1\u001b[0m\n\u001b[1;32m----> 1\u001b[0m \u001b[38;5;28mprint\u001b[39m(\u001b[38;5;28mfloat\u001b[39m(\u001b[38;5;241m3\u001b[39m\u001b[38;5;241m+\u001b[39m\u001b[38;5;241m4\u001b[39mj))\n",
      "\u001b[1;31mTypeError\u001b[0m: float() argument must be a string or a real number, not 'complex'"
     ]
    }
   ],
   "source": [
    "#complex to others\n",
    "print(float(3+4j))\n"
   ]
  },
  {
   "cell_type": "code",
   "execution_count": 6,
   "id": "c9d587eb-0937-4589-af07-380ff62bdd62",
   "metadata": {},
   "outputs": [
    {
     "name": "stdout",
     "output_type": "stream",
     "text": [
      "(3+4j)\n",
      "True\n"
     ]
    }
   ],
   "source": [
    "#complex to others\n",
    "print(str(3+4j))\n",
    "print(bool(3+4j))"
   ]
  },
  {
   "cell_type": "code",
   "execution_count": 7,
   "id": "94871c87-9848-48b5-86c8-1732e2a59346",
   "metadata": {},
   "outputs": [
    {
     "data": {
      "text/plain": [
       "('10', '10.5', '(3+4j)', 'True', 'False')"
      ]
     },
     "execution_count": 7,
     "metadata": {},
     "output_type": "execute_result"
    }
   ],
   "source": [
    "str(10),str(10.5),str(3+4j),str(True),str(False)"
   ]
  },
  {
   "cell_type": "code",
   "execution_count": 8,
   "id": "3bcbb667-6cff-4613-8bf3-1e7301f6870a",
   "metadata": {},
   "outputs": [
    {
     "name": "stdout",
     "output_type": "stream",
     "text": [
      " Hi How ----------\n"
     ]
    }
   ],
   "source": [
    "print(\" Hi How ----------\")"
   ]
  },
  {
   "cell_type": "code",
   "execution_count": 9,
   "id": "f79dabfe-bdf8-4c53-bb75-910662a147e2",
   "metadata": {},
   "outputs": [
    {
     "name": "stdout",
     "output_type": "stream",
     "text": [
      "10 20 30\n"
     ]
    }
   ],
   "source": [
    "print(10,20,30)"
   ]
  },
  {
   "cell_type": "code",
   "execution_count": 10,
   "id": "a5fd4f11-a6bf-4529-ac1d-58b6db6d07fe",
   "metadata": {},
   "outputs": [
    {
     "name": "stdout",
     "output_type": "stream",
     "text": [
      "10 and 20\n"
     ]
    }
   ],
   "source": [
    "print(10,\"and\",20)"
   ]
  },
  {
   "cell_type": "code",
   "execution_count": 11,
   "id": "bd1b9e7f-141a-41cc-9f4e-398164854880",
   "metadata": {},
   "outputs": [
    {
     "name": "stdout",
     "output_type": "stream",
     "text": [
      "10 and 20\n"
     ]
    }
   ],
   "source": [
    "print(\"10 and 20\")"
   ]
  },
  {
   "cell_type": "code",
   "execution_count": 14,
   "id": "57673f5d-2918-4488-b0bc-82a78ed8ecb6",
   "metadata": {},
   "outputs": [
    {
     "name": "stdout",
     "output_type": "stream",
     "text": [
      "10 20\n",
      "10 20\n",
      "10 and 20\n",
      "10 and 20\n",
      "10 and 20\n",
      "num1 and num2\n"
     ]
    }
   ],
   "source": [
    "num1=10\n",
    "num2=20\n",
    "print(num1,num2)\n",
    "print(10,20)\n",
    "print(num1,\"and\",20)\n",
    "print(10 ,\"and\",20)\n",
    "print(\"10 and 20\")\n",
    "print(\"num1 and num2\")"
   ]
  },
  {
   "cell_type": "code",
   "execution_count": 15,
   "id": "e3ec7865-6b64-43ad-81aa-821625b92eaf",
   "metadata": {},
   "outputs": [
    {
     "name": "stdout",
     "output_type": "stream",
     "text": [
      "the addition of 10 and 20 is equal to 30\n"
     ]
    }
   ],
   "source": [
    "#avoid using this type of print statements\n",
    "a=10\n",
    "b=20\n",
    "c=a+b\n",
    "print(\"the addition of\",a,\"and\",b,\"is equal to\",c)"
   ]
  },
  {
   "cell_type": "code",
   "execution_count": 16,
   "id": "d0b0bcc8-8d55-4859-924a-69e340e9b28f",
   "metadata": {},
   "outputs": [
    {
     "name": "stdout",
     "output_type": "stream",
     "text": [
      "my name is Surya I am from hyderabad and my age is 23\n"
     ]
    }
   ],
   "source": [
    "#avoid using this type of print statements\n",
    "name=\"Surya\"\n",
    "city=\"hyderabad\"\n",
    "age=23\n",
    "print(\"my name is\",name,\"I am from\",city,\"and my age is\",age)"
   ]
  },
  {
   "cell_type": "code",
   "execution_count": 28,
   "id": "13df5e52-22f4-47f9-8b07-7e42ed94e69b",
   "metadata": {},
   "outputs": [
    {
     "name": "stdout",
     "output_type": "stream",
     "text": [
      "the addition of 10 and 20 is equal to 30\n"
     ]
    }
   ],
   "source": [
    "# method-2 format\n",
    "#use this type of print statements\n",
    "a=10\n",
    "b=20\n",
    "c=a+b\n",
    "print(\"the addition of {} and {} is equal to {}\".format(a,b,c))\n"
   ]
  },
  {
   "cell_type": "code",
   "execution_count": 30,
   "id": "7756e893-4178-4680-8165-fda760d15378",
   "metadata": {},
   "outputs": [
    {
     "name": "stdout",
     "output_type": "stream",
     "text": [
      "my name is Surya I am from hyderabad and my age is 23\n"
     ]
    }
   ],
   "source": [
    "name=\"Surya\"\n",
    "city=\"hyderabad\"\n",
    "age=23\n",
    "print(\"my name is {} I am from {} and my age is {}\".format(name,city,age))"
   ]
  },
  {
   "cell_type": "code",
   "execution_count": 31,
   "id": "665c51ed-1055-49fa-937a-aac9bb8ff4ca",
   "metadata": {},
   "outputs": [
    {
     "name": "stdout",
     "output_type": "stream",
     "text": [
      "the addition of 10 and 20 is equal to 30\n"
     ]
    }
   ],
   "source": [
    "# method-3  fstring method\n",
    "a=10\n",
    "b=20\n",
    "c=a+b\n",
    "print(f\"the addition of {a} and {b} is equal to {c}\")\n"
   ]
  },
  {
   "cell_type": "code",
   "execution_count": 32,
   "id": "30730355-f6f6-4c6e-901c-e585f06da3d1",
   "metadata": {},
   "outputs": [
    {
     "name": "stdout",
     "output_type": "stream",
     "text": [
      "my name is Surya I am from hyderabad and my age is 23\n"
     ]
    }
   ],
   "source": [
    "name=\"Surya\"\n",
    "city=\"hyderabad\"\n",
    "age=23\n",
    "print(f\"my name is {name} I am from {city} and my age is {age}\")"
   ]
  },
  {
   "cell_type": "code",
   "execution_count": 34,
   "id": "ae409507-f2c1-46a3-86bb-5aaeaa98314d",
   "metadata": {},
   "outputs": [
    {
     "name": "stdout",
     "output_type": "stream",
     "text": [
      "hi\n",
      "hello\n",
      "hi how are you\n"
     ]
    }
   ],
   "source": [
    "# $ end operator$\n",
    "# join elements in print\n",
    "print(\"hi\")\n",
    "print(\"hello\")\n",
    "print(\"hi\",end=\" \") ##### side by side\n",
    "print(\"how are you\")\n"
   ]
  },
  {
   "cell_type": "code",
   "execution_count": 35,
   "id": "a99f0aea-7fad-4419-a424-6cec612d0e1b",
   "metadata": {},
   "outputs": [
    {
     "name": "stdout",
     "output_type": "stream",
     "text": [
      "1\n",
      "2\n",
      "3\n",
      "1 2 3\n"
     ]
    }
   ],
   "source": [
    "print(1)\n",
    "print(2)\n",
    "print(3)\n",
    "# side by side using end operator\n",
    "print(1, end=\" \")\n",
    "print(2, end=\" \")\n",
    "print(3)\n"
   ]
  },
  {
   "cell_type": "code",
   "execution_count": 37,
   "id": "73f290c2-9d7b-4e60-9f78-221b0e04731c",
   "metadata": {},
   "outputs": [
    {
     "name": "stdout",
     "output_type": "stream",
     "text": [
      "hi how are you\n",
      "hi and how are you\n"
     ]
    }
   ],
   "source": [
    "# $ seperator method --- sep $\n",
    "# seperate elements in print\n",
    "print(\"hi\",\"how are you\")\n",
    "print(\"hi\",\"how are you\", sep=\" and \")\n"
   ]
  },
  {
   "cell_type": "code",
   "execution_count": 39,
   "id": "afbcc75d-2066-4ec3-a4e6-5daea14e7f25",
   "metadata": {},
   "outputs": [
    {
     "name": "stdout",
     "output_type": "stream",
     "text": [
      "1<->2<->3<->4<->5<->6<->7<->8<->9\n"
     ]
    }
   ],
   "source": [
    "print(1,2,3,4,5,6,7,8,9,sep=\"<->\")"
   ]
  },
  {
   "cell_type": "markdown",
   "id": "2a6773b6-4740-4a42-987d-56942fc25011",
   "metadata": {},
   "source": [
    "# Summary\n",
    "- format\n",
    "- fstring\n",
    "- end\n",
    "- sep"
   ]
  },
  {
   "cell_type": "code",
   "execution_count": null,
   "id": "0ca821c5-3930-42a4-a0de-79982b846de5",
   "metadata": {},
   "outputs": [],
   "source": []
  }
 ],
 "metadata": {
  "kernelspec": {
   "display_name": "Python 3 (ipykernel)",
   "language": "python",
   "name": "python3"
  },
  "language_info": {
   "codemirror_mode": {
    "name": "ipython",
    "version": 3
   },
   "file_extension": ".py",
   "mimetype": "text/x-python",
   "name": "python",
   "nbconvert_exporter": "python",
   "pygments_lexer": "ipython3",
   "version": "3.11.5"
  }
 },
 "nbformat": 4,
 "nbformat_minor": 5
}
