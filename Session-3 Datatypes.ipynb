{
 "cells": [
  {
   "cell_type": "code",
   "execution_count": 1,
   "id": "dea33819-764e-42b2-afab-17f70d14601d",
   "metadata": {},
   "outputs": [],
   "source": [
    "number=10"
   ]
  },
  {
   "cell_type": "code",
   "execution_count": 2,
   "id": "ac4c5c67-84de-4957-adfe-a4df7973b067",
   "metadata": {},
   "outputs": [
    {
     "data": {
      "text/plain": [
       "int"
      ]
     },
     "execution_count": 2,
     "metadata": {},
     "output_type": "execute_result"
    }
   ],
   "source": [
    "type(number)"
   ]
  },
  {
   "cell_type": "code",
   "execution_count": 3,
   "id": "f525b379-44a2-41fd-a666-53704e2744a0",
   "metadata": {},
   "outputs": [
    {
     "data": {
      "text/plain": [
       "7"
      ]
     },
     "execution_count": 3,
     "metadata": {},
     "output_type": "execute_result"
    }
   ],
   "source": [
    "0b111"
   ]
  },
  {
   "cell_type": "code",
   "execution_count": 4,
   "id": "4d3ced2b-43b4-4bd6-8225-75aff034c3f1",
   "metadata": {},
   "outputs": [
    {
     "data": {
      "text/plain": [
       "1697"
      ]
     },
     "execution_count": 4,
     "metadata": {},
     "output_type": "execute_result"
    }
   ],
   "source": [
    "0x6a1"
   ]
  },
  {
   "cell_type": "code",
   "execution_count": 5,
   "id": "327a1ade-a330-4065-889e-2ebc16dc49ac",
   "metadata": {},
   "outputs": [
    {
     "data": {
      "text/plain": [
       "83"
      ]
     },
     "execution_count": 5,
     "metadata": {},
     "output_type": "execute_result"
    }
   ],
   "source": [
    "0o123"
   ]
  },
  {
   "cell_type": "code",
   "execution_count": 6,
   "id": "793013ce-ffe6-4dde-9e5a-5908fa0e2076",
   "metadata": {},
   "outputs": [
    {
     "data": {
      "text/plain": [
       "2748"
      ]
     },
     "execution_count": 6,
     "metadata": {},
     "output_type": "execute_result"
    }
   ],
   "source": [
    "0xabc"
   ]
  },
  {
   "cell_type": "code",
   "execution_count": 1,
   "id": "8d8a1189-a615-4400-badc-df7334543b11",
   "metadata": {},
   "outputs": [
    {
     "name": "stdout",
     "output_type": "stream",
     "text": [
      "Hello \"World\"\n"
     ]
    }
   ],
   "source": [
    "\n",
    "print('Hello \"World\"')"
   ]
  },
  {
   "cell_type": "markdown",
   "id": "48037410-18ab-464e-b4f2-63ce803651de",
   "metadata": {},
   "source": [
    "# triple quoats in python\n",
    "- triple quotes are used to write a story of a specific part of code\n",
    "- Doc string\n",
    "- if some body using triple quote means the user try to say some thing about that code"
   ]
  },
  {
   "cell_type": "code",
   "execution_count": 4,
   "id": "acb767d9-b64c-4df5-8d03-bebf6cad87fb",
   "metadata": {},
   "outputs": [
    {
     "data": {
      "text/plain": [
       "30"
      ]
     },
     "execution_count": 4,
     "metadata": {},
     "output_type": "execute_result"
    }
   ],
   "source": [
    "\"\"\" Hello my name is python\"\"\"\n",
    "a=10\n",
    "b=20\n",
    "a+b"
   ]
  },
  {
   "cell_type": "code",
   "execution_count": 5,
   "id": "996dda37-67cd-4fc4-9a89-1e1db5deca58",
   "metadata": {},
   "outputs": [
    {
     "data": {
      "text/plain": [
       "'helloWorld'"
      ]
     },
     "execution_count": 5,
     "metadata": {},
     "output_type": "execute_result"
    }
   ],
   "source": [
    "\"hello\"+\"World\""
   ]
  },
  {
   "cell_type": "code",
   "execution_count": 6,
   "id": "a57e4100-e432-4708-91a0-ac082001bda6",
   "metadata": {},
   "outputs": [
    {
     "data": {
      "text/plain": [
       "'helloWorld'"
      ]
     },
     "execution_count": 6,
     "metadata": {},
     "output_type": "execute_result"
    }
   ],
   "source": [
    "'hello'+'World'"
   ]
  },
  {
   "cell_type": "code",
   "execution_count": 7,
   "id": "8840eeac-e5d4-4ac2-8b4f-84010f8d403a",
   "metadata": {},
   "outputs": [
    {
     "data": {
      "text/plain": [
       "'helloWorld'"
      ]
     },
     "execution_count": 7,
     "metadata": {},
     "output_type": "execute_result"
    }
   ],
   "source": [
    "\"hello\"+'World'"
   ]
  },
  {
   "cell_type": "code",
   "execution_count": 8,
   "id": "cab9cc4d-72f6-485a-a5c8-16463c204833",
   "metadata": {},
   "outputs": [
    {
     "data": {
      "text/plain": [
       "'helloWorld'"
      ]
     },
     "execution_count": 8,
     "metadata": {},
     "output_type": "execute_result"
    }
   ],
   "source": [
    "\"\"\"hello\"\"\"+\"\"\"World\"\"\""
   ]
  },
  {
   "cell_type": "code",
   "execution_count": 9,
   "id": "18179090-af75-4034-b8a2-03f9a7818473",
   "metadata": {},
   "outputs": [
    {
     "data": {
      "text/plain": [
       "'helloWorld'"
      ]
     },
     "execution_count": 9,
     "metadata": {},
     "output_type": "execute_result"
    }
   ],
   "source": [
    "\"hello\"+\"\"\"World\"\"\""
   ]
  },
  {
   "cell_type": "code",
   "execution_count": null,
   "id": "f22b59de-f049-49cb-9b58-91c8e5f5b202",
   "metadata": {},
   "outputs": [],
   "source": []
  }
 ],
 "metadata": {
  "kernelspec": {
   "display_name": "Python 3 (ipykernel)",
   "language": "python",
   "name": "python3"
  },
  "language_info": {
   "codemirror_mode": {
    "name": "ipython",
    "version": 3
   },
   "file_extension": ".py",
   "mimetype": "text/x-python",
   "name": "python",
   "nbconvert_exporter": "python",
   "pygments_lexer": "ipython3",
   "version": "3.11.5"
  }
 },
 "nbformat": 4,
 "nbformat_minor": 5
}
