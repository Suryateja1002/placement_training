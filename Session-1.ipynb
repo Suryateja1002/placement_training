{
 "cells": [
  {
   "cell_type": "code",
   "execution_count": 1,
   "id": "12994639-fcd0-4c89-a24b-45eb3a86ad8d",
   "metadata": {},
   "outputs": [],
   "source": [
    "import os"
   ]
  },
  {
   "cell_type": "code",
   "execution_count": 3,
   "id": "9546bb3f-67b2-45ee-9865-24d701f9e768",
   "metadata": {},
   "outputs": [
    {
     "data": {
      "text/plain": [
       "'C:\\\\Users\\\\surya\\\\OneDrive\\\\Documents\\\\Data_Science_Naresh_IT'"
      ]
     },
     "execution_count": 3,
     "metadata": {},
     "output_type": "execute_result"
    }
   ],
   "source": [
    "os.getcwd()"
   ]
  },
  {
   "cell_type": "code",
   "execution_count": 2,
   "id": "cb74b5b5-b7b7-4f7c-b854-fa8a8ae658e9",
   "metadata": {},
   "outputs": [
    {
     "name": "stdout",
     "output_type": "stream",
     "text": [
      "10\n"
     ]
    },
    {
     "data": {
      "text/plain": [
       "12"
      ]
     },
     "execution_count": 2,
     "metadata": {},
     "output_type": "execute_result"
    }
   ],
   "source": [
    "a=10\n",
    "print(a)\n",
    "b=12\n",
    "b"
   ]
  },
  {
   "cell_type": "markdown",
   "id": "d425a7ab-e703-4c45-a8b5-69f04a0b3c34",
   "metadata": {},
   "source": [
    "Markdown to code esc+y"
   ]
  },
  {
   "cell_type": "markdown",
   "id": "2a17e908-65e3-454d-9950-7a5d093f69ba",
   "metadata": {},
   "source": [
    "# heading\n",
    "- point1\n",
    "- point2"
   ]
  },
  {
   "cell_type": "code",
   "execution_count": null,
   "id": "3057fcdd-85a3-4195-a3af-6a115a50d446",
   "metadata": {},
   "outputs": [],
   "source": []
  }
 ],
 "metadata": {
  "kernelspec": {
   "display_name": "Python 3 (ipykernel)",
   "language": "python",
   "name": "python3"
  },
  "language_info": {
   "codemirror_mode": {
    "name": "ipython",
    "version": 3
   },
   "file_extension": ".py",
   "mimetype": "text/x-python",
   "name": "python",
   "nbconvert_exporter": "python",
   "pygments_lexer": "ipython3",
   "version": "3.11.5"
  }
 },
 "nbformat": 4,
 "nbformat_minor": 5
}
