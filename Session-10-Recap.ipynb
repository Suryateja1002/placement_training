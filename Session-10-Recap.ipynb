{
 "cells": [
  {
   "cell_type": "markdown",
   "id": "f42f0e0a-07e8-47c6-b99c-322b33f983e2",
   "metadata": {},
   "source": [
    "# Learnings\n",
    "- Datatypes\n",
    "- eval\n",
    "- input\n",
    "- end\n",
    "- sep\n",
    "- format\n",
    "- fstrings\n",
    "- badic programs"
   ]
  },
  {
   "cell_type": "markdown",
   "id": "38c8d5bc-94eb-4fab-a7a8-103275b64605",
   "metadata": {},
   "source": []
  },
  {
   "cell_type": "code",
   "execution_count": 5,
   "id": "32e90ea6-7fd1-4e67-8c0e-d3f0a145744a",
   "metadata": {},
   "outputs": [
    {
     "name": "stdout",
     "output_type": "stream",
     "text": [
      "10\n",
      "10.5\n",
      "True\n",
      "(10.5+0j)\n"
     ]
    }
   ],
   "source": [
    "print(int(10.5))\n",
    "print(str(10.5))\n",
    "print(bool(10.5))\n",
    "print(complex(10.5))"
   ]
  },
  {
   "cell_type": "code",
   "execution_count": 6,
   "id": "6db6407a-c318-4c6b-a1b9-18fe3d3b3181",
   "metadata": {},
   "outputs": [
    {
     "name": "stdout",
     "output_type": "stream",
     "text": [
      "10.0\n",
      "10\n",
      "True\n",
      "(10+0j)\n"
     ]
    }
   ],
   "source": [
    "print(float(10))\n",
    "print(str(10))\n",
    "print(bool(10))\n",
    "print(complex(10))"
   ]
  },
  {
   "cell_type": "code",
   "execution_count": 7,
   "id": "bd518daa-a444-461e-a93c-c81c3e6fa223",
   "metadata": {},
   "outputs": [
    {
     "name": "stdout",
     "output_type": "stream",
     "text": [
      "0.0\n",
      "0\n",
      "False\n",
      "0j\n"
     ]
    }
   ],
   "source": [
    "print(float(0))\n",
    "print(str(0))\n",
    "print(bool(0))\n",
    "print(complex(0))"
   ]
  },
  {
   "cell_type": "code",
   "execution_count": 8,
   "id": "baa2f005-5c0c-41d3-adab-e52678a5ad6d",
   "metadata": {},
   "outputs": [
    {
     "name": "stdout",
     "output_type": "stream",
     "text": [
      "10.0\n",
      "10\n",
      "True\n",
      "(10+0j)\n"
     ]
    }
   ],
   "source": [
    "print(float('10'))\n",
    "print(int('10'))\n",
    "print(bool('10'))\n",
    "print(complex('10'))"
   ]
  },
  {
   "cell_type": "code",
   "execution_count": 13,
   "id": "0416a0f8-60d3-4e64-a5c0-73338afb8298",
   "metadata": {},
   "outputs": [
    {
     "name": "stdout",
     "output_type": "stream",
     "text": [
      "10.5\n",
      "True\n",
      "(10.5+0j)\n"
     ]
    }
   ],
   "source": [
    "print(float('10.5'))\n",
    "print(bool('10.5'))\n",
    "print(complex('10.5'))"
   ]
  },
  {
   "cell_type": "code",
   "execution_count": null,
   "id": "35960064-d401-4120-a11f-f2def7c1ab7d",
   "metadata": {},
   "outputs": [],
   "source": [
    "print(int('10.5'))   #--------->Error will come special case\n",
    "#float is the boss It can covert anything"
   ]
  },
  {
   "cell_type": "code",
   "execution_count": 20,
   "id": "43df5d23-5f6e-4a7d-932a-ae23e27b3a9b",
   "metadata": {},
   "outputs": [
    {
     "data": {
      "text/plain": [
       "10.0"
      ]
     },
     "execution_count": 20,
     "metadata": {},
     "output_type": "execute_result"
    }
   ],
   "source": [
    "int('10')  #--->10\n",
    "float('10') #---> 10.0\n",
    "float('10.5') #--->10.5\n",
    "int('10.5')   #---> error\n"
   ]
  },
  {
   "cell_type": "code",
   "execution_count": 26,
   "id": "8aab4f92-3334-4dbb-ac63-95b803d0695d",
   "metadata": {},
   "outputs": [
    {
     "name": "stdin",
     "output_type": "stream",
     "text": [
      "Enter Bill amount: 1000\n",
      "Enter tip percentage: 1.5\n"
     ]
    },
    {
     "name": "stdout",
     "output_type": "stream",
     "text": [
      "Total Bill to pay is 1015.0\n"
     ]
    }
   ],
   "source": [
    "Bill=eval(input(\"Enter Bill amount:\"))\n",
    "Tip_percentage=eval(input(\"Enter tip percentage:\"))\n",
    "tip_amount=Bill*Tip_percentage/100\n",
    "total=Bill+tip_amount\n",
    "print(f\"Total Bill to pay is {total}\")"
   ]
  },
  {
   "cell_type": "code",
   "execution_count": null,
   "id": "55ea082c-7bec-4a4e-8705-c73f447e6e73",
   "metadata": {},
   "outputs": [],
   "source": []
  }
 ],
 "metadata": {
  "kernelspec": {
   "display_name": "Python 3 (ipykernel)",
   "language": "python",
   "name": "python3"
  },
  "language_info": {
   "codemirror_mode": {
    "name": "ipython",
    "version": 3
   },
   "file_extension": ".py",
   "mimetype": "text/x-python",
   "name": "python",
   "nbconvert_exporter": "python",
   "pygments_lexer": "ipython3",
   "version": "3.11.5"
  }
 },
 "nbformat": 4,
 "nbformat_minor": 5
}
