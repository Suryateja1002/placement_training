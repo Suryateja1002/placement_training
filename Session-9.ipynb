{
 "cells": [
  {
   "cell_type": "code",
   "execution_count": 3,
   "id": "e381f143-e754-4028-a32a-88bc50cf4a73",
   "metadata": {},
   "outputs": [
    {
     "name": "stdin",
     "output_type": "stream",
     "text": [
      "Enter Percentage: 80\n"
     ]
    },
    {
     "name": "stdout",
     "output_type": "stream",
     "text": [
      "A\n"
     ]
    }
   ],
   "source": [
    "# Avoid using this type\n",
    "percent=eval(input(\"Enter Percentage:\"))\n",
    "if percent>90:\n",
    "    print(\"A+\")\n",
    "elif percent>70 and percent<90:\n",
    "    print(\"A\")\n",
    "elif percent>60 and percent<75:\n",
    "    print(\"B\")\n",
    "elif percent>45 and percent<60:\n",
    "    print(\"C\")\n",
    "else:\n",
    "    print(\"Fail\")\n"
   ]
  },
  {
   "cell_type": "code",
   "execution_count": 4,
   "id": "4623200f-956e-4cd1-b0f3-f133583f8756",
   "metadata": {},
   "outputs": [
    {
     "name": "stdin",
     "output_type": "stream",
     "text": [
      "Enter Percentage: 80\n"
     ]
    },
    {
     "name": "stdout",
     "output_type": "stream",
     "text": [
      "A\n"
     ]
    }
   ],
   "source": [
    "# above method is time taking and we can shorten the code as below\n",
    "# Recommonded method\n",
    "percent=eval(input(\"Enter Percentage:\"))\n",
    "if percent>90:\n",
    "    print(\"A+\")\n",
    "elif percent>70:\n",
    "    print(\"A\")\n",
    "elif percent>60:\n",
    "    print(\"B\")\n",
    "elif percent>45:\n",
    "    print(\"C\")\n",
    "else:\n",
    "    print(\"Fail\")"
   ]
  },
  {
   "cell_type": "code",
   "execution_count": 9,
   "id": "64cbd053-e7b2-4b59-a21b-6c2846c2d351",
   "metadata": {},
   "outputs": [
    {
     "name": "stdin",
     "output_type": "stream",
     "text": [
      "Enter age: 9\n"
     ]
    },
    {
     "name": "stdout",
     "output_type": "stream",
     "text": [
      "Kid\n"
     ]
    }
   ],
   "source": [
    "# classify people based on age\n",
    "age=eval(input(\"Enter age:\"))\n",
    "if age>60:\n",
    "    print(\"Senior Citizen\")\n",
    "elif age>45:\n",
    "    print(\"Aged\")\n",
    "elif age>30:\n",
    "    print(\"Middle aged\")\n",
    "elif age>20:\n",
    "    print(\"Young\")\n",
    "elif age>13:\n",
    "    print(\"Teenager\")\n",
    "else:\n",
    "    print(\"Kid\")\n",
    "\n"
   ]
  },
  {
   "cell_type": "code",
   "execution_count": 14,
   "id": "2e1a47c2-55de-4b06-b818-942666069237",
   "metadata": {},
   "outputs": [
    {
     "name": "stdin",
     "output_type": "stream",
     "text": [
      "Enter Distance 9\n"
     ]
    },
    {
     "name": "stdout",
     "output_type": "stream",
     "text": [
      "Your Distance is 9km.\n",
      "For Distance less than 10, the charge per km is 0rs\n",
      "Free Ride\n"
     ]
    }
   ],
   "source": [
    "Distance=eval(input(\"Enter Distance\"))\n",
    "if Distance>50:\n",
    "    print(f\"Your Distance is {Distance}km.\")\n",
    "    print(\"For Distance greater than 50, the charge per km is 2rs\")\n",
    "    charge=eval(input(\"Enter Charge per km\"))\n",
    "    total=Distance*charge\n",
    "    print(f\"Total charge is {total}\")\n",
    "elif Distance>30:\n",
    "    print(f\"Your Distance is {Distance}km.\")\n",
    "    print(\"For Distance greater than 30, the charge per km is 1rs\")\n",
    "    charge=eval(input(\"Enter Charge per km\"))\n",
    "    total=Distance*charge\n",
    "    print(f\"Total charge is {total}\")\n",
    "elif Distance>10:\n",
    "    print(f\"Your Distance is {Distance}km.\")\n",
    "    print(\"For Distance greater than 10, the charge per km is 0.5rs\")\n",
    "    charge=eval(input(\"Enter Charge per km\"))\n",
    "    total=Distance*charge\n",
    "    print(f\"Total charge is {total}\")\n",
    "else:\n",
    "    print(f\"Your Distance is {Distance}km.\")\n",
    "    print(\"For Distance less than 10, the charge per km is 0rs\")\n",
    "    print(\"Free Ride\")"
   ]
  },
  {
   "cell_type": "code",
   "execution_count": 19,
   "id": "32fdb515-cf2d-4947-a3df-610f61fc8165",
   "metadata": {},
   "outputs": [
    {
     "name": "stdin",
     "output_type": "stream",
     "text": [
      "Enter your gender: male\n",
      "Enter age: 25\n"
     ]
    },
    {
     "name": "stdout",
     "output_type": "stream",
     "text": [
      "Young Man\n"
     ]
    }
   ],
   "source": [
    "gender=input(\"Enter your gender:\")\n",
    "if gender==\"male\" or gender==\"Male\" :\n",
    "    age=eval(input(\"Enter age:\"))\n",
    "    if age>45:\n",
    "        print(\"Aged\")\n",
    "    elif age>30:\n",
    "        print(\"Middle aged\")\n",
    "    elif age>15:\n",
    "        print(\"Young Man\")\n",
    "    else:\n",
    "        print(\"Boy\")\n",
    "elif gender==\"female\" or gender==\"Female\" :\n",
    "    age=eval(input(\"Enter age:\"))\n",
    "    if age>45:\n",
    "        print(\"Aged Woman\")\n",
    "    elif age>30:\n",
    "        print(\"Middle aged Woman\")\n",
    "    elif age>15:\n",
    "        print(\"Young Woman\")\n",
    "    else:\n",
    "        print(\"Girl\")\n",
    "else:\n",
    "    print(\"Enter proper Gender\")\n",
    "    "
   ]
  },
  {
   "cell_type": "code",
   "execution_count": 23,
   "id": "d1d69314-2b10-4431-a8ab-d10fd43dbdbd",
   "metadata": {},
   "outputs": [
    {
     "name": "stdin",
     "output_type": "stream",
     "text": [
      "Enter Number: -1\n"
     ]
    },
    {
     "name": "stdout",
     "output_type": "stream",
     "text": [
      "-1 is a negative number.\n"
     ]
    }
   ],
   "source": [
    "num=eval(input(\"Enter Number:\"))\n",
    "if num>=0:\n",
    "    if num==0:\n",
    "        print(f\"{num} is equal to Zero.\")\n",
    "    else:\n",
    "        print(f\"{num} is a positive number.\")\n",
    "else:\n",
    "    print(f\"{num} is a negative number.\")"
   ]
  },
  {
   "cell_type": "code",
   "execution_count": 29,
   "id": "20222c46-7110-4e2a-8a7b-9577f59221a8",
   "metadata": {},
   "outputs": [
    {
     "name": "stdin",
     "output_type": "stream",
     "text": [
      "Enter Number-1:: 1\n",
      "Enter Number-2:: 3\n",
      "Enter Number-3:: 2\n"
     ]
    },
    {
     "name": "stdout",
     "output_type": "stream",
     "text": [
      "3 is the greater number.\n"
     ]
    }
   ],
   "source": [
    "# print the greatest of 3 numbers\n",
    "# 50 75 100\n",
    "num1=eval(input(\"Enter Number-1::\"))\n",
    "num2=eval(input(\"Enter Number-2::\"))\n",
    "num3=eval(input(\"Enter Number-3::\"))\n",
    "if num1>num2:\n",
    "    print(f\"{num1} is greater number.\")\n",
    "elif num2>num3:\n",
    "    print(f\"{num2} is the greater number.\")\n",
    "else:\n",
    "    print(f\"{num3} is the greater number.\")"
   ]
  },
  {
   "cell_type": "code",
   "execution_count": null,
   "id": "96a6285f-5b4d-4d9e-ad61-f61313528143",
   "metadata": {},
   "outputs": [],
   "source": []
  }
 ],
 "metadata": {
  "kernelspec": {
   "display_name": "Python 3 (ipykernel)",
   "language": "python",
   "name": "python3"
  },
  "language_info": {
   "codemirror_mode": {
    "name": "ipython",
    "version": 3
   },
   "file_extension": ".py",
   "mimetype": "text/x-python",
   "name": "python",
   "nbconvert_exporter": "python",
   "pygments_lexer": "ipython3",
   "version": "3.11.5"
  }
 },
 "nbformat": 4,
 "nbformat_minor": 5
}
