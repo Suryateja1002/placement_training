{
 "cells": [
  {
   "cell_type": "code",
   "execution_count": 5,
   "id": "67b9f009-7a93-4ea4-9dee-866fe5bcdc5b",
   "metadata": {},
   "outputs": [
    {
     "name": "stdout",
     "output_type": "stream",
     "text": [
      "37 is odd\n"
     ]
    }
   ],
   "source": [
    "# read a random number between 10 and 50 and check whether it is even or odd\n",
    "import random\n",
    "num1=random.randint(10,50)\n",
    "if num1%2==0:\n",
    "    print(f\"{num1} is even\")\n",
    "else:\n",
    "    print(f\"{num1} is odd\")"
   ]
  },
  {
   "cell_type": "code",
   "execution_count": null,
   "id": "f6b69e81-7eca-4303-8077-df6f4c82bc1d",
   "metadata": {},
   "outputs": [],
   "source": [
    "# three ways of giving input\n",
    "\n",
    "#method1-1 giving direct number\n",
    "num1=23\n",
    "if num1%2==0:\n",
    "    print(f\"{num1} is even\")\n",
    "else:\n",
    "    print(f\"{num1} is odd\")\n",
    "    \n",
    "# method-2 taking number from the keyboard\n",
    "num1=eval(input(\"Enter a number\"))\n",
    "if num1%2==0:\n",
    "    print(f\"{num1} is even\")\n",
    "else:\n",
    "    print(f\"{num1} is odd\")\n",
    "    \n",
    "# method-3 generating a random number\n",
    "import random\n",
    "num1=random.randint(10,50)\n",
    "if num1%2==0:\n",
    "    print(f\"{num1} is even\")\n",
    "else:\n",
    "    print(f\"{num1} is odd\")"
   ]
  },
  {
   "cell_type": "code",
   "execution_count": 22,
   "id": "8c97dc8d-748b-4723-95ac-bc17743b5ef4",
   "metadata": {},
   "outputs": [
    {
     "name": "stdin",
     "output_type": "stream",
     "text": [
      "Enter a number between 1 to 100 : 50\n"
     ]
    },
    {
     "name": "stdout",
     "output_type": "stream",
     "text": [
      "50 is eqal to 50\n"
     ]
    }
   ],
   "source": [
    "# num>50 or num<50 \n",
    "num=eval(input(\"Enter a number between 1 to 100 :\"))\n",
    "if num>=1 and num<=100:\n",
    "    if num>50:\n",
    "        print(f\"{num} is greater than 50\")\n",
    "    elif num==50:\n",
    "        print(f\"{num} is equal to 50\")\n",
    "    else:\n",
    "        print(f\"{num} is less than 50\")\n",
    "else:\n",
    "    print(\"You entered a wrong number\")"
   ]
  },
  {
   "cell_type": "code",
   "execution_count": 21,
   "id": "3b40f264-8116-4dc5-910b-54770ba2a153",
   "metadata": {},
   "outputs": [
    {
     "name": "stdout",
     "output_type": "stream",
     "text": [
      "22 is less than 50\n"
     ]
    }
   ],
   "source": [
    "import random\n",
    "num=random.randint(1,100)\n",
    "if num>=1 and num<=100:\n",
    "    if num>50:\n",
    "        print(f\"{num} is greater than 50\")\n",
    "    elif num==50:\n",
    "        print(f\"{num} is eqal to 50\")\n",
    "    else:\n",
    "        print(f\"{num} is less than 50\")\n",
    "else:\n",
    "    print(\"You entered a wrong number\")"
   ]
  },
  {
   "cell_type": "code",
   "execution_count": 33,
   "id": "8910889a-192a-473e-bd8c-8d5b97bac0f3",
   "metadata": {},
   "outputs": [
    {
     "name": "stdin",
     "output_type": "stream",
     "text": [
      "Enter a number between 1 and 10 : 5\n"
     ]
    },
    {
     "name": "stdout",
     "output_type": "stream",
     "text": [
      "You Win\n"
     ]
    }
   ],
   "source": [
    "# take a random number(1,10) -->num1\n",
    "# take input from keyboard --->num2\n",
    "#if num1=num2 print you won\n",
    "\n",
    "num1=random.randint(1,10)\n",
    "num2=eval(input(\"Enter a number between 1 and 10 :\"))\n",
    "if num1==num2:\n",
    "    print(\"You Win\")\n",
    "else:\n",
    "    print(\"You Lose\")"
   ]
  },
  {
   "cell_type": "code",
   "execution_count": 38,
   "id": "ca158eaf-62e9-4b97-87cf-b5ca1308f3eb",
   "metadata": {},
   "outputs": [
    {
     "name": "stdin",
     "output_type": "stream",
     "text": [
      "Conductor: can you show your ID\n",
      "Mother: I don't have any Id\n",
      "Conductor: You need to buy the ticket\n",
      "Mother: ok How much\n",
      "Conductor: How many km you will travel\n",
      "Mother: 28\n",
      "Mother : what is the charge\n",
      "conductor: The charge per km is- 3\n"
     ]
    },
    {
     "name": "stdout",
     "output_type": "stream",
     "text": [
      "total fare to pay is : 84\n"
     ]
    }
   ],
   "source": [
    "input(\"Conductor:\")\n",
    "answer=input(\"Mother:\")\n",
    "if answer==\"YES\" or answer==\"Yes\" or answer==\"yes\":\n",
    "    print(\"Enjoy the free bus\")\n",
    "else:\n",
    "    input(\"Conductor:\")\n",
    "    input(\"Mother:\")\n",
    "    input(\"Conductor:\")\n",
    "    diatance=eval(input(\"Mother:\"))\n",
    "    input(\"Mother :\")\n",
    "    fare= eval(input(\"conductor: The charge per km is-\"))\n",
    "    total=diatance*fare\n",
    "    print(f\"total fare to pay is : {total}\")"
   ]
  },
  {
   "cell_type": "code",
   "execution_count": 41,
   "id": "d1efad81-3571-4169-8dbb-845095bbe983",
   "metadata": {},
   "outputs": [
    {
     "name": "stdin",
     "output_type": "stream",
     "text": [
      "Enter a number : 2\n"
     ]
    },
    {
     "name": "stdout",
     "output_type": "stream",
     "text": [
      "2 is positive\n"
     ]
    }
   ],
   "source": [
    "num=eval(input(\"Enter a number :\"))\n",
    "if num>0:\n",
    "    print(f\"{num} is positive\")\n",
    "elif num==0:\n",
    "    print(f\"{num} is Zero\")\n",
    "else:\n",
    "    print(f\"{num} is negative\")"
   ]
  },
  {
   "cell_type": "code",
   "execution_count": 45,
   "id": "1ce331b5-2cc0-487d-bd3a-97c246d9ad23",
   "metadata": {},
   "outputs": [
    {
     "name": "stdin",
     "output_type": "stream",
     "text": [
      "Enter a number : 0\n"
     ]
    },
    {
     "name": "stdout",
     "output_type": "stream",
     "text": [
      "0 is Zero\n"
     ]
    }
   ],
   "source": [
    "num=eval(input(\"Enter a number :\"))\n",
    "if num==0:\n",
    "    print(f\"{num} is Zero\")\n",
    "elif num==1:\n",
    "    print(f\"{num} is One\")\n",
    "elif num==2:\n",
    "    print(f\"{num} is Two\")\n",
    "else:\n",
    "    print(f\"{num} is Greater than Two\")\n"
   ]
  },
  {
   "cell_type": "code",
   "execution_count": null,
   "id": "17db40b4-9861-4f23-a636-d2e93cd2d692",
   "metadata": {},
   "outputs": [],
   "source": []
  }
 ],
 "metadata": {
  "kernelspec": {
   "display_name": "Python 3 (ipykernel)",
   "language": "python",
   "name": "python3"
  },
  "language_info": {
   "codemirror_mode": {
    "name": "ipython",
    "version": 3
   },
   "file_extension": ".py",
   "mimetype": "text/x-python",
   "name": "python",
   "nbconvert_exporter": "python",
   "pygments_lexer": "ipython3",
   "version": "3.11.5"
  }
 },
 "nbformat": 4,
 "nbformat_minor": 5
}
