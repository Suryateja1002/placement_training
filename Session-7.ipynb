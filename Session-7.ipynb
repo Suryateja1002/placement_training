{
 "cells": [
  {
   "cell_type": "code",
   "execution_count": 2,
   "id": "373bf46c-d98d-4aea-aa75-12f3dae3ea5f",
   "metadata": {},
   "outputs": [
    {
     "name": "stdin",
     "output_type": "stream",
     "text": [
      "Daughter :  d\n",
      "Mother :  s\n",
      "Daughter :  f\n",
      "Mother :  s\n",
      "Daughter :  s\n",
      "Mother :  d\n",
      "Conductor :  d\n",
      "Mother :  e\n",
      "Conductor :  r\n",
      "Mother :  w\n",
      "Conductor :  e\n",
      "Mother :  25\n",
      "Mother :  s\n",
      "Conductor :  2\n"
     ]
    },
    {
     "name": "stdout",
     "output_type": "stream",
     "text": [
      "total charge = 50\n"
     ]
    }
   ],
   "source": [
    "input(\"Daughter : \")\n",
    "input(\"Mother : \")\n",
    "input(\"Daughter : \")\n",
    "input(\"Mother : \")\n",
    "input(\"Daughter : \")\n",
    "input(\"Mother : \")\n",
    "input(\"Conductor : \")\n",
    "input(\"Mother : \")\n",
    "input(\"Conductor : \")\n",
    "input(\"Mother : \")\n",
    "input(\"Conductor : \")\n",
    "km=eval(input(\"Mother : \"))\n",
    "input(\"Mother : \")\n",
    "charge=eval(input(\"Conductor : \"))\n",
    "total=km*charge\n",
    "print(f\"total charge = {total}\")\n",
    "\n"
   ]
  },
  {
   "cell_type": "code",
   "execution_count": 5,
   "id": "5382142d-8193-4b92-9be9-f070a42f20c8",
   "metadata": {},
   "outputs": [
    {
     "name": "stdin",
     "output_type": "stream",
     "text": [
      "you:  how much is the bill\n",
      "bar:  800\n",
      "you:  I have only dollars\n",
      "bar:  we accept only in rupees\n",
      "you:  what should I do \n",
      "bar:  will convert to dollars\n",
      "you:  80\n",
      "you:  what is the bill now\n"
     ]
    },
    {
     "name": "stdout",
     "output_type": "stream",
     "text": [
      "give me 10.0\n"
     ]
    }
   ],
   "source": [
    "input(\"you: \")\n",
    "bill=eval(input(\"bar: \"))\n",
    "input(\"you: \")\n",
    "input(\"bar: \")\n",
    "input(\"you: \")\n",
    "input(\"bar: \")\n",
    "value=eval(input(\"you: \"))\n",
    "(input(\"you: \"))\n",
    "required=bill/value\n",
    "print(f\"give me {required}\")\n"
   ]
  },
  {
   "cell_type": "code",
   "execution_count": 7,
   "id": "d539c0e3-ef7b-43c2-940c-f7a5ac573cc0",
   "metadata": {},
   "outputs": [
    {
     "name": "stdout",
     "output_type": "stream",
     "text": [
      "11.25\n",
      "1\n",
      "11\n"
     ]
    }
   ],
   "source": [
    "print(45/4) #--->normal division gives quotient\n",
    "print(45%4) #---->modulus gives remainder\n",
    "print(45//4) #---->floor division"
   ]
  },
  {
   "cell_type": "code",
   "execution_count": 8,
   "id": "e688293c-78eb-436e-8b48-7aa66d56058b",
   "metadata": {},
   "outputs": [
    {
     "name": "stdout",
     "output_type": "stream",
     "text": [
      "1\n",
      "2\n",
      "hello\n",
      "hi\n",
      "bye\n"
     ]
    }
   ],
   "source": [
    "print(1)\n",
    "print(2)\n",
    "if True:\n",
    "    print(\"hello\")\n",
    "    print('hi')\n",
    "print(\"bye\")"
   ]
  },
  {
   "cell_type": "code",
   "execution_count": 9,
   "id": "a498e00e-7d60-4fd0-8328-ba48c60c703a",
   "metadata": {},
   "outputs": [
    {
     "name": "stdout",
     "output_type": "stream",
     "text": [
      "1\n",
      "2\n",
      "bye\n"
     ]
    }
   ],
   "source": [
    "print(1)\n",
    "print(2)\n",
    "if False:\n",
    "    print(\"hello\")\n",
    "    print('hi')\n",
    "print(\"bye\")"
   ]
  },
  {
   "cell_type": "code",
   "execution_count": 2,
   "id": "3a931d24-a5d8-4883-a1c0-279fd7ec4f42",
   "metadata": {},
   "outputs": [
    {
     "name": "stdin",
     "output_type": "stream",
     "text": [
      "Enter a number 20\n"
     ]
    },
    {
     "name": "stdout",
     "output_type": "stream",
     "text": [
      "20 is even number\n"
     ]
    }
   ],
   "source": [
    "try:\n",
    "    num=eval(input(\"Enter a number\"))\n",
    "    if num % 2==0:\n",
    "        print(f\"{num} is even number\")\n",
    "    else:\n",
    "        print(f\"{num} is odd number\")\n",
    "except Exception as e:\n",
    "    print(e)"
   ]
  },
  {
   "cell_type": "code",
   "execution_count": null,
   "id": "a3004bd6-d25c-4c76-a9e1-c803bff4dd8c",
   "metadata": {},
   "outputs": [],
   "source": []
  }
 ],
 "metadata": {
  "kernelspec": {
   "display_name": "Python 3 (ipykernel)",
   "language": "python",
   "name": "python3"
  },
  "language_info": {
   "codemirror_mode": {
    "name": "ipython",
    "version": 3
   },
   "file_extension": ".py",
   "mimetype": "text/x-python",
   "name": "python",
   "nbconvert_exporter": "python",
   "pygments_lexer": "ipython3",
   "version": "3.11.5"
  }
 },
 "nbformat": 4,
 "nbformat_minor": 5
}
